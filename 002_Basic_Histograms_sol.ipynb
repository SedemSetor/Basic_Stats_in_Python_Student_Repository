{
 "cells": [
  {
   "cell_type": "code",
   "execution_count": 1,
   "metadata": {},
   "outputs": [],
   "source": [
    "#sklearn is a machine learning package, it has a few sample datasets in it, so we'll use it here\n",
    "from sklearn import datasets\n",
    "import thinkplot\n",
    "import thinkstats2\n",
    "import pandas as pd\n",
    "import numpy as np\n",
    "import seaborn as sns"
   ]
  },
  {
   "attachments": {},
   "cell_type": "markdown",
   "metadata": {},
   "source": [
    "## Basic Histograms\n",
    "\n",
    "><b>Originally Created by Akeem Semper: [https://github.com/AkeemSemper/Basic_Stats_in_Python_Student_Workbooks](https://github.com/AkeemSemper/Basic_Stats_in_Python_Student_Workbooks \"Original Repository\")</b>\n",
    "\n",
    "Histograms are one of the most basic and useful visualizations that we use in statistics. It allows us to clearly visualize the distribution of a variable - what values our variable can take on. \n",
    "\n",
    "A histogram is a very simple bar chart, one that always has a couple of features:\n",
    "<ul>\n",
    "<li> The value we are looking at is along the X axis. If it is a continuous value (e.g. height, weight, salary), the value is \"binned\" or broken into segments - i.e. for weight you may have 10kg bins, and every value between 80kg and 90kg are in one bar. \n",
    "<li> The count of how many times that value occurs (# of instances or records in the dataset) is on the Y axis. \n",
    "</ul>\n",
    "\n",
    "So, a histogram is just a chart of a count of \"how many records have this value\".\n",
    "\n",
    "![Histogram](images/histogram.png \"Histogram\")\n",
    "\n",
    "A histogram is useful, and very commonly used, because it allows us to easily and quickly get an idea of the shape of our data. "
   ]
  },
  {
   "cell_type": "markdown",
   "metadata": {},
   "source": [
    "## Distributions\n",
    "\n",
    "A distribution is a way of describing how the values of a variable are spread out. A histogram is a way of visualizing that distribution. In a numeric dataset, we have data that spans the range, or sits between the minimum and maximum values. How many values sit in each place along that range defines the distribution. For example, if we have a dataset of people's ages, we can see how many people are in each age group. If we have a lot of people in their 20s, but very few in their 60s, we can see that the distribution is skewed towards younger ages.\n",
    "\n",
    "The easiest way to understand distributions is to look it visually, typically with a histogram. Any dataset will have some distribution of its values, many set of data will fall into one of several common distributions. The most common distributions are:\n",
    "<ul>\n",
    "<li> Normal Distribution - a bell-shaped curve where most values are around the mean, with fewer values as you move away from the mean in either direction. </li>\n",
    "<li> Uniform Distribution - all values are equally likely, so the histogram is flat. </li>\n",
    "<li> Skewed Distribution - the values are not evenly distributed, with more values on one side of the mean than the other. </li>\n",
    "<li> Bimodal Distribution - two peaks in the distribution, indicating two different groups of values. </li>\n",
    "<li> Exponential Distribution - values decrease rapidly, with most values close to the maximum and very few values as you move away from the maximum. </li>\n",
    "</ul>\n",
    "\n",
    "The normal distribution is the most common distribution, and many statistical tests assume that the data is normally distributed. In fact, knowing the distribution of your data can allow use to use tools based on the properties of that distribution. For example, if we know that our data is normally distributed, we can use the mean and standard deviation to calculate probabilities and confidence intervals. This is particularly useful in 'classical' statistics, since it enables calculations without needing to do massive amounts of computation."
   ]
  },
  {
   "cell_type": "markdown",
   "metadata": {},
   "source": [
    "### Load Data \n",
    "\n",
    "We'll load in one of the sample datasets from a package called scikitlearn. \n",
    "The loading part below, to get it into a dataframe is something that you can just Google - \"load sklearn boston dataset python\". We'll use sklearn a lot later on into the machine learning class. \n",
    "\n",
    "All of the variables in this data are metrics of housing quality - things like polution measures, tax levels, age of homes, etc... We can also Google for a detailed dictionary as this is a common example dataset, we don't really need much specific knowledge on the meaning of the data examine the stats!"
   ]
  },
  {
   "cell_type": "code",
   "execution_count": 2,
   "metadata": {},
   "outputs": [
    {
     "data": {
      "text/html": [
       "<div>\n",
       "<style scoped>\n",
       "    .dataframe tbody tr th:only-of-type {\n",
       "        vertical-align: middle;\n",
       "    }\n",
       "\n",
       "    .dataframe tbody tr th {\n",
       "        vertical-align: top;\n",
       "    }\n",
       "\n",
       "    .dataframe thead th {\n",
       "        text-align: right;\n",
       "    }\n",
       "</style>\n",
       "<table border=\"1\" class=\"dataframe\">\n",
       "  <thead>\n",
       "    <tr style=\"text-align: right;\">\n",
       "      <th></th>\n",
       "      <th>CRIM</th>\n",
       "      <th>ZN</th>\n",
       "      <th>INDUS</th>\n",
       "      <th>CHAS</th>\n",
       "      <th>NOX</th>\n",
       "      <th>RM</th>\n",
       "      <th>AGE</th>\n",
       "      <th>DIS</th>\n",
       "      <th>RAD</th>\n",
       "      <th>TAX</th>\n",
       "      <th>PTRATIO</th>\n",
       "      <th>B</th>\n",
       "      <th>LSTAT</th>\n",
       "      <th>MEDV</th>\n",
       "    </tr>\n",
       "  </thead>\n",
       "  <tbody>\n",
       "    <tr>\n",
       "      <th>0</th>\n",
       "      <td>0.00632</td>\n",
       "      <td>18.0</td>\n",
       "      <td>2.31</td>\n",
       "      <td>0.0</td>\n",
       "      <td>0.538</td>\n",
       "      <td>6.575</td>\n",
       "      <td>65.2</td>\n",
       "      <td>4.0900</td>\n",
       "      <td>1</td>\n",
       "      <td>296</td>\n",
       "      <td>15.3</td>\n",
       "      <td>396.90</td>\n",
       "      <td>4.98</td>\n",
       "      <td>24.0</td>\n",
       "    </tr>\n",
       "    <tr>\n",
       "      <th>1</th>\n",
       "      <td>0.02731</td>\n",
       "      <td>0.0</td>\n",
       "      <td>7.07</td>\n",
       "      <td>0.0</td>\n",
       "      <td>0.469</td>\n",
       "      <td>6.421</td>\n",
       "      <td>78.9</td>\n",
       "      <td>4.9671</td>\n",
       "      <td>2</td>\n",
       "      <td>242</td>\n",
       "      <td>17.8</td>\n",
       "      <td>396.90</td>\n",
       "      <td>9.14</td>\n",
       "      <td>21.6</td>\n",
       "    </tr>\n",
       "    <tr>\n",
       "      <th>2</th>\n",
       "      <td>0.02729</td>\n",
       "      <td>0.0</td>\n",
       "      <td>7.07</td>\n",
       "      <td>0.0</td>\n",
       "      <td>0.469</td>\n",
       "      <td>7.185</td>\n",
       "      <td>61.1</td>\n",
       "      <td>4.9671</td>\n",
       "      <td>2</td>\n",
       "      <td>242</td>\n",
       "      <td>17.8</td>\n",
       "      <td>392.83</td>\n",
       "      <td>4.03</td>\n",
       "      <td>34.7</td>\n",
       "    </tr>\n",
       "    <tr>\n",
       "      <th>3</th>\n",
       "      <td>0.03237</td>\n",
       "      <td>0.0</td>\n",
       "      <td>2.18</td>\n",
       "      <td>0.0</td>\n",
       "      <td>0.458</td>\n",
       "      <td>6.998</td>\n",
       "      <td>45.8</td>\n",
       "      <td>6.0622</td>\n",
       "      <td>3</td>\n",
       "      <td>222</td>\n",
       "      <td>18.7</td>\n",
       "      <td>394.63</td>\n",
       "      <td>2.94</td>\n",
       "      <td>33.4</td>\n",
       "    </tr>\n",
       "    <tr>\n",
       "      <th>4</th>\n",
       "      <td>0.06905</td>\n",
       "      <td>0.0</td>\n",
       "      <td>2.18</td>\n",
       "      <td>0.0</td>\n",
       "      <td>0.458</td>\n",
       "      <td>7.147</td>\n",
       "      <td>54.2</td>\n",
       "      <td>6.0622</td>\n",
       "      <td>3</td>\n",
       "      <td>222</td>\n",
       "      <td>18.7</td>\n",
       "      <td>396.90</td>\n",
       "      <td>NaN</td>\n",
       "      <td>36.2</td>\n",
       "    </tr>\n",
       "    <tr>\n",
       "      <th>...</th>\n",
       "      <td>...</td>\n",
       "      <td>...</td>\n",
       "      <td>...</td>\n",
       "      <td>...</td>\n",
       "      <td>...</td>\n",
       "      <td>...</td>\n",
       "      <td>...</td>\n",
       "      <td>...</td>\n",
       "      <td>...</td>\n",
       "      <td>...</td>\n",
       "      <td>...</td>\n",
       "      <td>...</td>\n",
       "      <td>...</td>\n",
       "      <td>...</td>\n",
       "    </tr>\n",
       "    <tr>\n",
       "      <th>501</th>\n",
       "      <td>0.06263</td>\n",
       "      <td>0.0</td>\n",
       "      <td>11.93</td>\n",
       "      <td>0.0</td>\n",
       "      <td>0.573</td>\n",
       "      <td>6.593</td>\n",
       "      <td>69.1</td>\n",
       "      <td>2.4786</td>\n",
       "      <td>1</td>\n",
       "      <td>273</td>\n",
       "      <td>21.0</td>\n",
       "      <td>391.99</td>\n",
       "      <td>NaN</td>\n",
       "      <td>22.4</td>\n",
       "    </tr>\n",
       "    <tr>\n",
       "      <th>502</th>\n",
       "      <td>0.04527</td>\n",
       "      <td>0.0</td>\n",
       "      <td>11.93</td>\n",
       "      <td>0.0</td>\n",
       "      <td>0.573</td>\n",
       "      <td>6.120</td>\n",
       "      <td>76.7</td>\n",
       "      <td>2.2875</td>\n",
       "      <td>1</td>\n",
       "      <td>273</td>\n",
       "      <td>21.0</td>\n",
       "      <td>396.90</td>\n",
       "      <td>9.08</td>\n",
       "      <td>20.6</td>\n",
       "    </tr>\n",
       "    <tr>\n",
       "      <th>503</th>\n",
       "      <td>0.06076</td>\n",
       "      <td>0.0</td>\n",
       "      <td>11.93</td>\n",
       "      <td>0.0</td>\n",
       "      <td>0.573</td>\n",
       "      <td>6.976</td>\n",
       "      <td>91.0</td>\n",
       "      <td>2.1675</td>\n",
       "      <td>1</td>\n",
       "      <td>273</td>\n",
       "      <td>21.0</td>\n",
       "      <td>396.90</td>\n",
       "      <td>5.64</td>\n",
       "      <td>23.9</td>\n",
       "    </tr>\n",
       "    <tr>\n",
       "      <th>504</th>\n",
       "      <td>0.10959</td>\n",
       "      <td>0.0</td>\n",
       "      <td>11.93</td>\n",
       "      <td>0.0</td>\n",
       "      <td>0.573</td>\n",
       "      <td>6.794</td>\n",
       "      <td>89.3</td>\n",
       "      <td>2.3889</td>\n",
       "      <td>1</td>\n",
       "      <td>273</td>\n",
       "      <td>21.0</td>\n",
       "      <td>393.45</td>\n",
       "      <td>6.48</td>\n",
       "      <td>22.0</td>\n",
       "    </tr>\n",
       "    <tr>\n",
       "      <th>505</th>\n",
       "      <td>0.04741</td>\n",
       "      <td>0.0</td>\n",
       "      <td>11.93</td>\n",
       "      <td>0.0</td>\n",
       "      <td>0.573</td>\n",
       "      <td>6.030</td>\n",
       "      <td>NaN</td>\n",
       "      <td>2.5050</td>\n",
       "      <td>1</td>\n",
       "      <td>273</td>\n",
       "      <td>21.0</td>\n",
       "      <td>396.90</td>\n",
       "      <td>7.88</td>\n",
       "      <td>11.9</td>\n",
       "    </tr>\n",
       "  </tbody>\n",
       "</table>\n",
       "<p>506 rows × 14 columns</p>\n",
       "</div>"
      ],
      "text/plain": [
       "        CRIM    ZN  INDUS  CHAS    NOX     RM   AGE     DIS  RAD  TAX  \\\n",
       "0    0.00632  18.0   2.31   0.0  0.538  6.575  65.2  4.0900    1  296   \n",
       "1    0.02731   0.0   7.07   0.0  0.469  6.421  78.9  4.9671    2  242   \n",
       "2    0.02729   0.0   7.07   0.0  0.469  7.185  61.1  4.9671    2  242   \n",
       "3    0.03237   0.0   2.18   0.0  0.458  6.998  45.8  6.0622    3  222   \n",
       "4    0.06905   0.0   2.18   0.0  0.458  7.147  54.2  6.0622    3  222   \n",
       "..       ...   ...    ...   ...    ...    ...   ...     ...  ...  ...   \n",
       "501  0.06263   0.0  11.93   0.0  0.573  6.593  69.1  2.4786    1  273   \n",
       "502  0.04527   0.0  11.93   0.0  0.573  6.120  76.7  2.2875    1  273   \n",
       "503  0.06076   0.0  11.93   0.0  0.573  6.976  91.0  2.1675    1  273   \n",
       "504  0.10959   0.0  11.93   0.0  0.573  6.794  89.3  2.3889    1  273   \n",
       "505  0.04741   0.0  11.93   0.0  0.573  6.030   NaN  2.5050    1  273   \n",
       "\n",
       "     PTRATIO       B  LSTAT  MEDV  \n",
       "0       15.3  396.90   4.98  24.0  \n",
       "1       17.8  396.90   9.14  21.6  \n",
       "2       17.8  392.83   4.03  34.7  \n",
       "3       18.7  394.63   2.94  33.4  \n",
       "4       18.7  396.90    NaN  36.2  \n",
       "..       ...     ...    ...   ...  \n",
       "501     21.0  391.99    NaN  22.4  \n",
       "502     21.0  396.90   9.08  20.6  \n",
       "503     21.0  396.90   5.64  23.9  \n",
       "504     21.0  393.45   6.48  22.0  \n",
       "505     21.0  396.90   7.88  11.9  \n",
       "\n",
       "[506 rows x 14 columns]"
      ]
     },
     "execution_count": 2,
     "metadata": {},
     "output_type": "execute_result"
    }
   ],
   "source": [
    "#tmp = datasets.load_boston()\n",
    "#df = pd.DataFrame(tmp['data'], columns=tmp.feature_names)\n",
    "#df.head()\n",
    "filepath = \"data/HousingData.csv\"\n",
    "df = pd.read_csv(filepath)\n",
    "df"
   ]
  },
  {
   "cell_type": "markdown",
   "metadata": {},
   "source": [
    "We'll look at the number of rooms first... (Remember, this is per neighborhood, so we get an average number of rooms in a set of houses). "
   ]
  },
  {
   "cell_type": "code",
   "execution_count": 3,
   "metadata": {},
   "outputs": [
    {
     "data": {
      "text/plain": [
       "count    506.000000\n",
       "mean       6.284634\n",
       "std        0.702617\n",
       "min        3.561000\n",
       "25%        5.885500\n",
       "50%        6.208500\n",
       "75%        6.623500\n",
       "max        8.780000\n",
       "Name: RM, dtype: float64"
      ]
     },
     "execution_count": 3,
     "metadata": {},
     "output_type": "execute_result"
    }
   ],
   "source": [
    "df[\"RM\"].describe()"
   ]
  },
  {
   "cell_type": "code",
   "execution_count": 4,
   "metadata": {},
   "outputs": [
    {
     "data": {
      "text/plain": [
       "3.561    1\n",
       "3.863    1\n",
       "4.138    2\n",
       "4.368    1\n",
       "4.519    1\n",
       "        ..\n",
       "8.375    1\n",
       "8.398    1\n",
       "8.704    1\n",
       "8.725    1\n",
       "8.780    1\n",
       "Name: RM, Length: 446, dtype: int64"
      ]
     },
     "execution_count": 4,
     "metadata": {},
     "output_type": "execute_result"
    }
   ],
   "source": [
    "df[\"RM\"].value_counts().sort_index()"
   ]
  },
  {
   "cell_type": "markdown",
   "metadata": {},
   "source": [
    "### Histograms to Visualize Distribution\n",
    "\n",
    "This sucks to look at. There has to be a better way!!\n",
    "\n",
    "![Falling](images/couch_better_way.gif)\n",
    "\n",
    "The thinkstats package gives us a shortcut function to generate a histogram. We first create a \"hist\" object that is a data structure defined by thinkstats to hold distribution data - it is a souped up dictionary (you'll do that in more detail in the programming class). Once we have made the hist object, we can call a function to draw it. "
   ]
  },
  {
   "cell_type": "markdown",
   "metadata": {},
   "source": [
    "##### Generating Hist Objects\n",
    "\n",
    "The first step is to create an object to store the histogram data. This is basically a souped up dictionary. \n",
    "\n",
    "The round is an example of a statistical technique called binning - we are grouping all the values that are between 3.0 and 3.9999 into one \"bin\", all the \"4s\", in another, etc... Because we are looking at a continuous variable with a discreet tool (a histogram), this binning process does that translation. The size of the bins is a judgement call. Printing a list of all the values after this binning makes it much more digestable. "
   ]
  },
  {
   "cell_type": "code",
   "execution_count": 5,
   "metadata": {},
   "outputs": [
    {
     "data": {
      "text/plain": [
       "Hist({5.9: 47, 6.0: 42, 6.2: 42, 6.4: 39, 6.1: 37, 6.3: 27, 6.5: 26, 6.6: 24, 5.8: 21, 5.6: 20, 5.7: 18, 6.8: 17, 6.7: 16, 7.0: 16, 5.4: 10, 7.2: 10, 6.9: 10, 7.1: 8, 5.5: 7, 5.0: 7, 7.3: 6, 5.3: 6, 7.8: 5, 7.4: 5, 7.9: 4, 8.3: 4, 4.9: 4, 7.5: 4, 8.4: 2, 4.1: 2, 5.2: 2, 7.6: 2, 8.0: 2, 8.7: 2, 7.7: 2, 4.5: 1, 4.6: 1, 4.7: 1, 4.4: 1, 8.8: 1, 3.9: 1, 3.6: 1, 8.2: 1, 8.1: 1, 5.1: 1}, 'Rooms')"
      ]
     },
     "execution_count": 5,
     "metadata": {},
     "output_type": "execute_result"
    }
   ],
   "source": [
    "#hist = thinkstats2.Hist(np.floor(df[\"RM\"]), label='Rooms')\n",
    "hist = thinkstats2.Hist(round(df[\"RM\"],1), label='Rooms')\n",
    "hist"
   ]
  },
  {
   "cell_type": "markdown",
   "metadata": {},
   "source": [
    "##### Drawing Histogram"
   ]
  },
  {
   "cell_type": "code",
   "execution_count": 6,
   "metadata": {},
   "outputs": [
    {
     "data": {
      "image/png": "[encoded data removed]",
      "text/plain": [
       "<Figure size 640x480 with 1 Axes>"
      ]
     },
     "metadata": {},
     "output_type": "display_data"
    }
   ],
   "source": [
    "thinkplot.Hist(hist)\n",
    "thinkplot.Config(xlabel='Number of Rooms', ylabel='count')\n",
    "thinkplot.axvline(np.mean(hist), color=\"green\")\n",
    "thinkplot.axvline(np.median(hist), color=\"red\")"
   ]
  },
  {
   "cell_type": "markdown",
   "metadata": {},
   "source": [
    "#### Using Seaborn\n",
    "\n",
    "We can also make histograms direrctly in seaborn, sans 'hist' object. "
   ]
  },
  {
   "cell_type": "code",
   "execution_count": 7,
   "metadata": {},
   "outputs": [
    {
     "data": {
      "text/plain": [
       "<Axes: xlabel='RM', ylabel='Count'>"
      ]
     },
     "execution_count": 7,
     "metadata": {},
     "output_type": "execute_result"
    },
    {
     "data": {
      "image/png": "[encoded data removed]",
      "text/plain": [
       "<Figure size 640x480 with 1 Axes>"
      ]
     },
     "metadata": {},
     "output_type": "display_data"
    }
   ],
   "source": [
    "sns.histplot(df[\"RM\"], kde=True)"
   ]
  },
  {
   "cell_type": "markdown",
   "metadata": {},
   "source": [
    "#### Histograms and Basic Stats\n",
    "\n",
    "Histograms are very useful for gaining a basic understanding of our data, in several ways:\n",
    "<ul>\n",
    "<li> \"Shape\" of the data, or its distribution. \n",
    "<li> Basic Statistics - mean and median can be estimated (they are shown by vertical lines above)\n",
    "<li> Dispersion - is the data spread out or compacted (measured by varaiance and standard deviation)\n",
    "<li> Outliers - is anything really big or really small. \n",
    "</ul>\n",
    "\n",
    "Most critically, we can generally see what type of pattern our data follows just by looking at it in a histogram. Our data here fits a common pattern, it is (roughly) normally distributed - meaning that it's distribution is more or less a bell shape, with most records in the middle, and fewer and fewer as we move progressively farther from the mean. \n",
    "\n",
    "This visual inspection of our data in a histogram (or a similar visualization) is one of the most common things that we will do with data. "
   ]
  },
  {
   "cell_type": "markdown",
   "metadata": {},
   "source": [
    "#### Simple Stats\n",
    "\n",
    "We can also generate the basic statistics for the data"
   ]
  },
  {
   "cell_type": "code",
   "execution_count": 8,
   "metadata": {},
   "outputs": [
    {
     "name": "stdout",
     "output_type": "stream",
     "text": [
      "0.4936708502211095\n",
      "0.7026171434153237\n",
      "6.284634387351779\n",
      "6.2085\n"
     ]
    }
   ],
   "source": [
    "# Variance\n",
    "print(df[\"RM\"].var())\n",
    "# Standard deviation \n",
    "print(df[\"RM\"].std())\n",
    "# Mean \n",
    "print(df[\"RM\"].mean())\n",
    "# Median \n",
    "print(df[\"RM\"].median())"
   ]
  },
  {
   "cell_type": "markdown",
   "metadata": {},
   "source": [
    "#### Try It\n",
    "\n",
    "With the \"tax\" value, generate a histogram as well as the basic statistics. Look at the distribution and see if it presents anything that you can understand in \"real life\" - is there anything you can think of that may help to resolve it so you can analyze the data better? If so, give it a shot. "
   ]
  },
  {
   "cell_type": "code",
   "execution_count": 9,
   "metadata": {},
   "outputs": [
    {
     "data": {
      "image/png": "[encoded data removed]",
      "text/plain": [
       "<Figure size 640x480 with 1 Axes>"
      ]
     },
     "metadata": {},
     "output_type": "display_data"
    }
   ],
   "source": [
    "tax_hist = thinkstats2.Hist(round(df[\"TAX\"],1), label='Tax')\n",
    "thinkplot.Hist(tax_hist)\n",
    "thinkplot.Config(xlabel='Tax', ylabel='count')\n",
    "thinkplot.axvline(np.mean(tax_hist), color=\"green\")\n",
    "thinkplot.axvline(np.median(tax_hist), color=\"red\")"
   ]
  },
  {
   "cell_type": "code",
   "execution_count": 10,
   "metadata": {},
   "outputs": [
    {
     "data": {
      "image/png": "[encoded data removed]",
      "text/plain": [
       "<Figure size 640x480 with 1 Axes>"
      ]
     },
     "metadata": {},
     "output_type": "display_data"
    }
   ],
   "source": [
    "temp = df[df[\"TAX\"] < 500]\n",
    "tax_hist = thinkstats2.Hist(round(temp[\"TAX\"],1), label='Tax')\n",
    "\n",
    "thinkplot.Hist(tax_hist)\n",
    "thinkplot.Config(xlabel='Tax', ylabel='count')\n",
    "thinkplot.axvline(np.mean(tax_hist), color=\"green\")\n",
    "thinkplot.axvline(np.median(tax_hist), color=\"red\")"
   ]
  },
  {
   "cell_type": "markdown",
   "metadata": {},
   "source": [
    "## Spliting Samples\n",
    "\n",
    "A very common type of analysis that we want to do is based on looking at two or more subsets in our dataset. For example, we may want to compare the lifetime earnings between people with high school vs college vs university vs graduate degreees. In a medical study we want to see how many vaccinated people get die vs how many unvaccinated people die. Comparisons of groups, and evaluating if there is a significant difference in what we see in the data between the different groups, is very common and important. \n",
    "\n",
    "#### Are homes by the river bigger?\n",
    "\n",
    "First, we can take a look at how the two different sets of houses (river vs no river) are distributed. The first step is to split the data using the varaible that tells us if we are by the river. "
   ]
  },
  {
   "cell_type": "code",
   "execution_count": 11,
   "metadata": {},
   "outputs": [],
   "source": [
    "river = df[df[\"CHAS\"] ==1 ]\n",
    "noRiver = df[df[\"CHAS\"] != 1]"
   ]
  },
  {
   "cell_type": "code",
   "execution_count": 12,
   "metadata": {},
   "outputs": [],
   "source": [
    "riverHist = thinkstats2.Hist(np.floor(river[\"RM\"]), label=\"Riverside\")\n",
    "landHist = thinkstats2.Hist(np.floor(noRiver[\"RM\"]), label=\"Landlocked\")"
   ]
  },
  {
   "cell_type": "code",
   "execution_count": 13,
   "metadata": {},
   "outputs": [
    {
     "data": {
      "image/png": "[encoded data removed]",
      "text/plain": [
       "<Figure size 640x480 with 1 Axes>"
      ]
     },
     "metadata": {},
     "output_type": "display_data"
    }
   ],
   "source": [
    "width = 0.5\n",
    "thinkplot.PrePlot(2)\n",
    "thinkplot.Hist(riverHist, align='right', width=width)\n",
    "thinkplot.Hist(landHist, align='left', width=width)\n",
    "thinkplot.Config(xlabel='# of Rooms', ylabel='Count')"
   ]
  },
  {
   "cell_type": "markdown",
   "metadata": {},
   "source": [
    "Maybe not the most clear picture, but we get the idea. What can we gather from this?"
   ]
  },
  {
   "cell_type": "code",
   "execution_count": 14,
   "metadata": {},
   "outputs": [
    {
     "name": "stdout",
     "output_type": "stream",
     "text": [
      "count    34.000000\n",
      "mean      6.563941\n",
      "std       0.848811\n",
      "min       5.344000\n",
      "25%       5.953250\n",
      "50%       6.311500\n",
      "75%       6.933000\n",
      "max       8.780000\n",
      "Name: RM, dtype: float64\n",
      "count    472.000000\n",
      "mean       6.264515\n",
      "std        0.687598\n",
      "min        3.561000\n",
      "25%        5.879750\n",
      "50%        6.198500\n",
      "75%        6.593500\n",
      "max        8.725000\n",
      "Name: RM, dtype: float64\n"
     ]
    }
   ],
   "source": [
    "print(river[\"RM\"].describe())\n",
    "print(noRiver[\"RM\"].describe())"
   ]
  },
  {
   "cell_type": "code",
   "execution_count": 15,
   "metadata": {},
   "outputs": [
    {
     "data": {
      "text/plain": [
       "0.2994263459621136"
      ]
     },
     "execution_count": 15,
     "metadata": {},
     "output_type": "execute_result"
    }
   ],
   "source": [
    "river[\"RM\"].mean() - noRiver[\"RM\"].mean()"
   ]
  },
  {
   "cell_type": "markdown",
   "metadata": {},
   "source": [
    "#### They look different, but... \n",
    "\n",
    "Here we have two subsets, there is a difference in their means, but there is a bunch of other info that is confusing things. The number of homes in each group is very different; the shape of the distribution isn't very easy to compare when the two are graphed together. \n",
    "\n",
    "Luckily we have other tools we can use to evaluate if this difference is significant. One that we will regularly use is called the effect size. "
   ]
  },
  {
   "cell_type": "markdown",
   "metadata": {},
   "source": [
    "### Evaluating Differences in Subgroups\n",
    "\n",
    "One thing we can see is that different subgroups may have different distributions - this is a common and important thing that we may want to investigate. For example, do people who take a medicince have a longer lifespan than people who take a placebo. Examining this difference and its importance is a big topic, one thing that we can look at now is called the Effect Size - a measure of how substantial the difference between two groups is. \n",
    "\n",
    "This is a very useful thing to be able to do - if you are examining the death rate of people who got a treatment vs people who didn't, a statistic like \"the non-treated population dies at a rate .087 higher than the treated population\" doesn't communicate anything substantial unless we can establish if that difference has substantial meaning."
   ]
  },
  {
   "cell_type": "code",
   "execution_count": 16,
   "metadata": {},
   "outputs": [],
   "source": [
    "def CohenEffectSize(group1, group2):\n",
    "    \"\"\"Computes Cohen's effect size for two groups.\n",
    "    \n",
    "    group1: Series or DataFrame\n",
    "    group2: Series or DataFrame\n",
    "    \n",
    "    returns: float if the arguments are Series;\n",
    "             Series if the arguments are DataFrames\n",
    "    \"\"\"\n",
    "    diff = group1.mean() - group2.mean()\n",
    "\n",
    "    var1 = group1.var()\n",
    "    var2 = group2.var()\n",
    "    n1, n2 = len(group1), len(group2)\n",
    "\n",
    "    pooled_var = (n1 * var1 + n2 * var2) / (n1 + n2)\n",
    "    d = diff / np.sqrt(pooled_var)\n",
    "    return d"
   ]
  },
  {
   "cell_type": "code",
   "execution_count": 17,
   "metadata": {},
   "outputs": [
    {
     "data": {
      "text/plain": [
       "0.42799921568515753"
      ]
     },
     "execution_count": 17,
     "metadata": {},
     "output_type": "execute_result"
    }
   ],
   "source": [
    "CohenEffectSize(river[\"RM\"], noRiver[\"RM\"])"
   ]
  },
  {
   "cell_type": "markdown",
   "metadata": {},
   "source": [
    "#### Effect Size... Sizes\n",
    "\n",
    "Effect size values can be judged on a scale, the higher the number, the larger the difference. Or in \"effect\" terms - if we see a big effect size, that is an indication that whatever the differentiator between the two samples is (e.g. often something like one group took a drug, the other took a placebo) significant, or it had an effect. \n",
    "\n",
    "There aren't really exact cutoffs for \"big\" or \"small\" in effect size, a rough guideline is:\n",
    "<ul>\n",
    "<li> < 0.3 - small effect size. \n",
    "<li> 0.3 - 0.5 - medium effect size. \n",
    "<li> > 0.5 - large effect size\n",
    "</ul>\n",
    "\n",
    "Again, these cutoffs are not exact; we will look at determining if there is a significant difference in two samples in more depth in a few weeks. \n",
    "\n",
    "We can also visualize the effect sizes via a graph:\n",
    "\n",
    "![Effect Size](images/effect_size_chart.jpg)"
   ]
  },
  {
   "cell_type": "markdown",
   "metadata": {},
   "source": [
    "#### Try It\n",
    "\n",
    "Use the \"CRIM\" column to separate the dataset into greater and lesser than .05, then do a similar comparison to above - which subset has more rooms? Include histogram(s) to illustrate the two distributions. "
   ]
  },
  {
   "cell_type": "code",
   "execution_count": 18,
   "metadata": {},
   "outputs": [],
   "source": [
    "low = df[df[\"CRIM\"] <= .05 ]\n",
    "high = df[df[\"CRIM\"] > .05]"
   ]
  },
  {
   "cell_type": "code",
   "execution_count": 19,
   "metadata": {},
   "outputs": [],
   "source": [
    "lowHist = thinkstats2.Hist(np.floor(low[\"RM\"]), label=\"Riverside\")\n",
    "highHist = thinkstats2.Hist(np.floor(high[\"RM\"]), label=\"Landlocked\")"
   ]
  },
  {
   "cell_type": "code",
   "execution_count": 20,
   "metadata": {},
   "outputs": [
    {
     "data": {
      "image/png": "[encoded data removed]",
      "text/plain": [
       "<Figure size 640x480 with 1 Axes>"
      ]
     },
     "metadata": {},
     "output_type": "display_data"
    }
   ],
   "source": [
    "width = 0.5\n",
    "thinkplot.PrePlot(2)\n",
    "thinkplot.Hist(lowHist, align='right', width=width)\n",
    "thinkplot.Hist(highHist, align='left', width=width)\n",
    "thinkplot.Config(xlabel='# of Rooms', ylabel='Count')"
   ]
  },
  {
   "cell_type": "code",
   "execution_count": 21,
   "metadata": {},
   "outputs": [
    {
     "name": "stdout",
     "output_type": "stream",
     "text": [
      "count    71.000000\n",
      "mean      6.627493\n",
      "std       0.561456\n",
      "min       5.663000\n",
      "25%       6.188000\n",
      "50%       6.575000\n",
      "75%       6.971500\n",
      "max       8.034000\n",
      "Name: RM, dtype: float64\n",
      "count    415.000000\n",
      "mean       6.214540\n",
      "std        0.709692\n",
      "min        3.561000\n",
      "25%        5.855000\n",
      "50%        6.145000\n",
      "75%        6.492500\n",
      "max        8.780000\n",
      "Name: RM, dtype: float64\n"
     ]
    }
   ],
   "source": [
    "print(low[\"RM\"].describe())\n",
    "print(high[\"RM\"].describe())"
   ]
  },
  {
   "cell_type": "markdown",
   "metadata": {},
   "source": [
    "## Graphing and Plotting Notes\n",
    "\n",
    "In general, we'll use the thinkplot package to do our plotting initially. It is a very simple package that is built on top of the matplotlib package, which is the most common plotting package in Python, and it works pretty easily for the stats things that we will do.\n",
    "\n",
    "Later on, we will use the seaborn package, which is a more advanced plotting package that is also built on top of matplotlib. Seaborn is a full, general purpose, plotting library that can do many things, and works with most other packages. \n",
    "\n",
    "On the whole, these two approaches are pretty interchangeable, we don't care a lot about the details of the plotting, we just want to be able to visualize our data. If you feel super strongly about one or the other, or even some other plotting package, feel free to use it. The goal is to visualize, we don't care how we get there - the current approach of thinkplot/seaborn is relatively simple and easy to use. "
   ]
  }
 ],
 "metadata": {
  "kernelspec": {
   "display_name": "ml_2",
   "language": "python",
   "name": "python3"
  },
  "language_info": {
   "codemirror_mode": {
    "name": "ipython",
    "version": 3
   },
   "file_extension": ".py",
   "mimetype": "text/x-python",
   "name": "python",
   "nbconvert_exporter": "python",
   "pygments_lexer": "ipython3",
   "version": "3.10.9"
  },
  "orig_nbformat": 4
 },
 "nbformat": 4,
 "nbformat_minor": 2
}
